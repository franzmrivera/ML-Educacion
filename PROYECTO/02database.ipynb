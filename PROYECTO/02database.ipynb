{
  "nbformat": 4,
  "nbformat_minor": 0,
  "metadata": {
    "colab": {
      "provenance": []
    },
    "kernelspec": {
      "name": "python3",
      "display_name": "Python 3"
    },
    "language_info": {
      "name": "python"
    }
  },
  "cells": [
    {
      "cell_type": "markdown",
      "source": [
        "# ***Ejemplo H1: Carga de Dataset y Lectura de columnas***"
      ],
      "metadata": {
        "id": "Iv8OaKKVxCyA"
      }
    },
    {
      "cell_type": "code",
      "source": [
        "# Importar las librerías necesarias para poder trabajar el dataset\n",
        "import pandas as pd"
      ],
      "metadata": {
        "id": "tdDn-QUZxaPZ"
      },
      "execution_count": null,
      "outputs": []
    },
    {
      "cell_type": "code",
      "source": [
        "# Lectura de dataset a trabajar\n",
        "df = pd.read_csv('https://raw.githubusercontent.com/franzmrivera/ML-Educacion/refs/heads/main/01database.csv')"
      ],
      "metadata": {
        "id": "BIbK2WZB10B6"
      },
      "execution_count": null,
      "outputs": []
    },
    {
      "cell_type": "code",
      "source": [
        "# Lectura básica del dataset\n",
        "\n",
        "df.head() # visualización primeras columnas\n",
        "df.shape # tamaño del dataset (filas, columnas)\n",
        "df.info() # información del dataset\n",
        "df.describe() # estadísticas del dataset"
      ],
      "metadata": {
        "id": "v2rBVA302Hdg"
      },
      "execution_count": null,
      "outputs": []
    },
    {
      "cell_type": "markdown",
      "source": [
        "### En esta parte debes comenzar a explicar el dataset a trabajar. Explicar cada columna de este y también los valores típicos de cada una de ellas (categorías, rangos en los que se mueve, que significan los datos de esa columna, etc.)\n",
        "\n",
        "*** EXPLICACIÓN DEL DATASET ***\n",
        "\n",
        "Este dataset contiene información sobre el mercado inmobiliario residencial en Melbourne, Australia, y está compuesto por registros de propiedades que fueron vendidas entre los años 2016 y 2017. La base de datos fue recopilada para ayudar a entender cómo distintas características de una propiedad (como su ubicación, tamaño o tipo) influyen en su precio de venta.\n",
        "\n",
        "*** EXPLICACIÓN DE COLUMNAS DEL DATASET ***\n",
        "\n",
        "Price --> La columna Price representa el precio final de venta de una propiedad residencial en dólares australianos. Es una variable numérica y uno de los elementos principales del análisis, ya que permite entender la relación entre el valor de una propiedad y sus distintas características como tamaño, ubicación, cantidad de habitaciones, entre otros. Es un tipo de dato FLOAT (número decimal) y sus valores típicos rondan entre 850000 y 7400000. También podemos observar que el valor mínimo es de 85000 y el máximo 9000000 (Mencionar también moda, mediana, etc.)\n",
        "\n",
        "\n",
        "\n",
        "\n",
        "\n",
        "\n",
        "\n",
        "\n"
      ],
      "metadata": {
        "id": "CKsiQEcbWljw"
      }
    }
  ]
}