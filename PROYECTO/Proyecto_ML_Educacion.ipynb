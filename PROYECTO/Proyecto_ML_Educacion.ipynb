{
  "nbformat": 4,
  "nbformat_minor": 0,
  "metadata": {
    "colab": {
      "provenance": [],
      "collapsed_sections": [
        "Iv8OaKKVxCyA",
        "mCus0U7KkUvi"
      ]
    },
    "kernelspec": {
      "name": "python3",
      "display_name": "Python 3"
    },
    "language_info": {
      "name": "python"
    }
  },
  "cells": [
    {
      "cell_type": "markdown",
      "source": [
        "# ***HITO 1: Carga de Dataset y Lectura de columnas***"
      ],
      "metadata": {
        "id": "Iv8OaKKVxCyA"
      }
    },
    {
      "cell_type": "markdown",
      "source": [
        "### ***Explicación del dataset***\n",
        "\n",
        "Este dataset contiene información sobre el mercado inmobiliario residencial en Melbourne, Australia, y está compuesto por registros de propiedades que fueron vendidas entre los años 2016 y 2017. La base de datos fue recopilada para ayudar a entender cómo distintas características de una propiedad (como su ubicación, tamaño o tipo) influyen en su precio de venta."
      ],
      "metadata": {
        "id": "qh8h4BIHgsNp"
      }
    },
    {
      "cell_type": "code",
      "source": [
        "# Importar las librerías necesarias para poder trabajar el dataset\n",
        "import pandas as pd"
      ],
      "metadata": {
        "id": "tdDn-QUZxaPZ"
      },
      "execution_count": null,
      "outputs": []
    },
    {
      "cell_type": "code",
      "source": [
        "# Lectura de dataset a trabajar\n",
        "df = pd.read_csv('https://raw.githubusercontent.com/franzmrivera/ML-Educacion/refs/heads/main/PROYECTO/01database.csv')\n",
        "df"
      ],
      "metadata": {
        "id": "BIbK2WZB10B6"
      },
      "execution_count": null,
      "outputs": []
    },
    {
      "cell_type": "markdown",
      "source": [
        "### ***Explicación columnas del dataset***\n",
        "\n",
        "Price --> La columna Price representa el precio final de venta de una propiedad residencial en euros. Es una variable numérica y uno de los elementos principales del análisis, ya que permite entender la relación entre el valor de una propiedad y sus distintas características como tamaño, ubicación, cantidad de habitaciones, entre otros. Es un tipo de dato FLOAT (número decimal) y sus valores típicos rondan entre 850000 y 7400000. También podemos observar que el valor mínimo es de 85000 y el máximo 9000000 (Mencionar también moda, mediana, etc.)\n",
        "\n",
        "\n",
        "\n",
        "\n",
        "\n",
        "\n",
        "\n",
        "\n"
      ],
      "metadata": {
        "id": "CKsiQEcbWljw"
      }
    },
    {
      "cell_type": "code",
      "source": [
        "df['Price']"
      ],
      "metadata": {
        "id": "B7-pMlkfwJuO"
      },
      "execution_count": null,
      "outputs": []
    },
    {
      "cell_type": "markdown",
      "source": [
        "# ***HITO 2: Análisis, Preprocesamiento y Entrenamiento***"
      ],
      "metadata": {
        "id": "mCus0U7KkUvi"
      }
    },
    {
      "cell_type": "markdown",
      "source": [
        "### ***Análisis de los datos***"
      ],
      "metadata": {
        "id": "fFiU7Tifkdsx"
      }
    },
    {
      "cell_type": "code",
      "source": [
        "# Estadística Descriptiva, Distribución de los datos #\n",
        "\n",
        "#df.head() # visualización primeras columnas\n",
        "#df.shape # tamaño del dataset (filas, columnas)\n",
        "#df.info() # información del dataset\n",
        "#df.describe() # estadísticas del dataset\n",
        "#df.isnull().sum() # Conteo de valores nulos en cada columna\n",
        "#df.isnull().sum() * 100 / len(df) # Porcentaje de valores nulos por columna\n",
        "#df.mode().iloc[0] # Valor más frecuente por cada columna\n",
        "#df.median(numeric_only=True)"
      ],
      "metadata": {
        "id": "zCkRlk0WkvDJ"
      },
      "execution_count": null,
      "outputs": []
    },
    {
      "cell_type": "code",
      "source": [
        "# Gráficos\n",
        "\n",
        "# Importar librerias para representar los datos a través de gráficos\n",
        "import seaborn as sns\n",
        "import matplotlib.pyplot as plt\n",
        "\n",
        "# Seleccionar las columnas numéricas (omitimos coordenadas e ID)\n",
        "numeric_cols = df.select_dtypes(include=['float64', 'int64']).drop(columns=['Unnamed: 0', 'Lattitude', 'Longtitude'], errors='ignore').columns\n",
        "\n",
        "# Dando un poco de edición para valores outliers que aparezcan en los boxplots\n",
        "outlier_style = dict(marker='o', markerfacecolor='red', markersize=5, linestyle='none')\n",
        "\n",
        "# Graficar un boxplot por cada columna\n",
        "for col in numeric_cols:\n",
        "    plt.figure(figsize=(8, 4))\n",
        "    sns.boxplot(x=df[col], flierprops=outlier_style)\n",
        "    plt.title(f'Boxplot de {col}')\n",
        "    plt.grid(True)\n",
        "    plt.show()\n"
      ],
      "metadata": {
        "id": "ch7ccBOymdRn"
      },
      "execution_count": null,
      "outputs": []
    },
    {
      "cell_type": "code",
      "source": [
        "# Matriz de correlación\n",
        "plt.figure(figsize=(12, 8))\n",
        "sns.heatmap(df[numeric_cols].corr(), annot=True, cmap='coolwarm', fmt=\".2f\")\n",
        "plt.title(\"Matriz de correlación\")\n",
        "plt.show()\n"
      ],
      "metadata": {
        "id": "U-HP_MQUm1LU"
      },
      "execution_count": null,
      "outputs": []
    },
    {
      "cell_type": "markdown",
      "source": [
        "### ***Preprocesamiento de los datos***"
      ],
      "metadata": {
        "id": "0HnimaM0sbqM"
      }
    },
    {
      "cell_type": "code",
      "source": [
        "# Eliminar duplicados\n",
        "\n",
        "print(f\"Cantidad de filas duplicadas: {df.duplicated().sum()}\")\n",
        "df.drop_duplicates(inplace=True)"
      ],
      "metadata": {
        "id": "4_V6tHmLsc48"
      },
      "execution_count": null,
      "outputs": []
    },
    {
      "cell_type": "code",
      "source": [
        "# Ver valores faltantes x columna\n",
        "print(df.isnull().sum())\n"
      ],
      "metadata": {
        "id": "VzC-vt7ns5Ll"
      },
      "execution_count": null,
      "outputs": []
    },
    {
      "cell_type": "code",
      "source": [
        "# Existen muchas opciones para reemplazar los valores nulos, en este caso yo eliminaré aquellos datos que contengan algun valor nulo\n",
        "df = df.dropna(axis=0)\n",
        "df"
      ],
      "metadata": {
        "id": "yLv0eAqCf81a"
      },
      "execution_count": null,
      "outputs": []
    },
    {
      "cell_type": "code",
      "source": [
        "# Transformar datos (en este caso, tomaré la columna RegionName)\n",
        "print(df.dtypes)\n",
        "print()\n",
        "\n",
        "df['Regionname'].unique()\n"
      ],
      "metadata": {
        "id": "NTatEeAgutfU"
      },
      "execution_count": null,
      "outputs": []
    },
    {
      "cell_type": "code",
      "source": [
        "# Librería que permite hacer la codificación\n",
        "from sklearn.preprocessing import LabelEncoder\n",
        "\n",
        "# Asegurar que la variable pase a tipo string, para luego codificar de manera segura\n",
        "df.loc[:, 'Regionname'] = df['Regionname'].astype(str)\n",
        "\n",
        "# Codificación con LabelEncoder\n",
        "le = LabelEncoder()\n",
        "df.loc[:, 'Regionname_codificada'] = le.fit_transform(df['Regionname'])\n",
        "\n",
        "# Mostrar tabla con la transformación hecha\n",
        "print(\"\\n\".join([f\"{i}: {region}\" for i, region in enumerate(le.classes_)]))\n",
        "\n",
        "df"
      ],
      "metadata": {
        "id": "mJ1kAKVvwLxS"
      },
      "execution_count": null,
      "outputs": []
    },
    {
      "cell_type": "code",
      "source": [
        "# Ejemplo normalizacion\n",
        "\n",
        "# Librería para importar el metodo de normalizacion MinMaxScaler\n",
        "#from sklearn.preprocessing import MinMaxScaler\n",
        "\n",
        "# Seleccionar columnas numéricas\n",
        "#columnas_numericas = df.select_dtypes(include=['int64', 'float64']).drop(columns=['Unnamed: 0'], errors='ignore').columns\n",
        "\n",
        "# Inicializar el normalizador\n",
        "#scaler = MinMaxScaler()\n",
        "\n",
        "# Aplicar normalización\n",
        "#df[columnas_numericas] = scaler.fit_transform(df[columnas_numericas])\n",
        "\n",
        "#df\n"
      ],
      "metadata": {
        "id": "Hx3h-GVniw62"
      },
      "execution_count": null,
      "outputs": []
    },
    {
      "cell_type": "markdown",
      "source": [
        "### ***Entrenamiento***\n",
        "\n"
      ],
      "metadata": {
        "id": "Fgf3hKHCp4iH"
      }
    },
    {
      "cell_type": "markdown",
      "source": [
        "***Objetivo del trabajo***\n",
        "\n",
        "El objetivo de este trabajo es predecir el precio de una vivienda utilizando variables como el número de habitaciones, baños, dormitorios y el tamaño del lugar. Estas variables son características fundamentales que influyen directamente en el valor de una propiedad y también lo podemos analizar viendo la matriz de correlación realizada anteriormente.\n",
        "\n",
        "En este caso, utilizaré un modelo de regresión (DecisionTreeRegressor) porque quiero predecir una variable numérica, que tambien me permite visualizar facilmente como se toman las decisiones y entender que variables influyen mas y en último lugar, porque es ideal para conjuntos de datos de tamaño mediano(agregar más justificación especifica). DecisionTree lo que hace es ir mirando característica x característica e irá dividiendo. Por ej: Tiene más de 2 baños, tiene más de 3 dormitorios, entonces valdrá x precio.\n"
      ],
      "metadata": {
        "id": "-5uZ7boKp9k_"
      }
    },
    {
      "cell_type": "code",
      "source": [
        "# Librerias necesarias para trabajar en el modelo de ML\n",
        "from sklearn.model_selection import train_test_split\n",
        "from sklearn.tree import DecisionTreeRegressor\n",
        "\n",
        "# Defino variables predictoras (X) y variable objetivo (y)\n",
        "X = df[['Rooms', 'Bedroom2', 'Bathroom', 'Landsize']]\n",
        "y = df['Price']\n",
        "\n",
        "# Inicializar el modelo a utilizar\n",
        "melbourne_model = DecisionTreeRegressor()\n",
        "melbourne_model.fit(X, y)"
      ],
      "metadata": {
        "id": "qOpOU-4ytkEG"
      },
      "execution_count": null,
      "outputs": []
    },
    {
      "cell_type": "code",
      "source": [
        "# Compruebo que el modelo esté entrenado\n",
        "\n",
        "print(\"Predicciones para las 5 primeras casas:\")\n",
        "print(X.head())\n",
        "print(\"El precio real es\")\n",
        "print(y.head())\n",
        "print(\"Las predicciones del modelo son\")\n",
        "print(melbourne_model.predict(X.head()))\n"
      ],
      "metadata": {
        "id": "H4_ATb1mz-eM"
      },
      "execution_count": null,
      "outputs": []
    }
  ]
}